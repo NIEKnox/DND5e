{
 "cells": [
  {
   "cell_type": "code",
   "execution_count": 1,
   "metadata": {},
   "outputs": [
    {
     "data": {
      "text/plain": [
       "'\\n1. do random gen of 6 numbers between 1-20\\n2. do array of full point buy\\n3. do conversion from point to score\\n4.\\n\\n\\n'"
      ]
     },
     "execution_count": 1,
     "metadata": {},
     "output_type": "execute_result"
    }
   ],
   "source": [
    "'''\n",
    "1. do random gen of 6 numbers between 1-20 subject to bounds\n",
    "2. do array of full point buy\n",
    "3. do conversion from point to score\n",
    "4. print array if within score bounds\n",
    "\n",
    "'''"
   ]
  },
  {
   "cell_type": "code",
   "execution_count": 11,
   "metadata": {},
   "outputs": [
    {
     "name": "stdout",
     "output_type": "stream",
     "text": [
      "Your ability scores are [16.  4.  8.  8. 16. 16.] with a point buy score of 29\n"
     ]
    }
   ],
   "source": [
    "import random as r\n",
    "import numpy as np\n",
    "\n",
    "pointBuy = [-9, -7, -5, -4, -3, -2, -1, 0, 1, 2, 3, 4, 5, 7, 9, 11, 13, 15, 17, 20] #extended point buy array from 1 to 20\n",
    "\n",
    "minNum, maxNum = 1, 20 #the minimum and maximum ability scores to generate\n",
    "minScore, maxScore = 27, 35 #the minimum and maximum point buy scores to accept for an array\n",
    "\n",
    "def generate(method):\n",
    "    if method == 'd20': #all numbers equally likely\n",
    "        numSet = []\n",
    "        for i in range(6):\n",
    "            num = r.randint(minNum, maxNum) #generate number between min and max allowed numbers\n",
    "            num = int(num) #convert to int\n",
    "            numSet = np.append(numSet, num) #add to array\n",
    "        return numSet #return array of 6 values\n",
    "\n",
    "#print(pointBuy)\n",
    "\n",
    "def value(scores):\n",
    "    x = 0\n",
    "    for i in range(6):\n",
    "        x += pointBuy[int(scores[i])-1] #get the point buy value of a number from the point buy conversion array\n",
    "    return x\n",
    "\n",
    "def get(method):\n",
    "    x = 0 #loop conditions\n",
    "    while x < 1: #loop make\n",
    "        array = generate(method) #generate array of scores\n",
    "        score = value(array) #value that array\n",
    "        if score >= minScore and score <= maxScore: #check if point buy score of array is within specified bounds\n",
    "            x = 1 #breaks out of loop if conditions are met\n",
    "    print(\"Your ability scores are\", array, \"with a point buy score of\", score, sep=\" \") #prints values\n",
    "\n",
    "get('d20')"
   ]
  },
  {
   "cell_type": "code",
   "execution_count": null,
   "metadata": {},
   "outputs": [],
   "source": []
  }
 ],
 "metadata": {
  "kernelspec": {
   "display_name": "Python 3",
   "language": "python",
   "name": "python3"
  },
  "language_info": {
   "codemirror_mode": {
    "name": "ipython",
    "version": 3
   },
   "file_extension": ".py",
   "mimetype": "text/x-python",
   "name": "python",
   "nbconvert_exporter": "python",
   "pygments_lexer": "ipython3",
   "version": "3.7.3"
  }
 },
 "nbformat": 4,
 "nbformat_minor": 2
}
